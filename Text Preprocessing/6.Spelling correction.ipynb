{
 "cells": [
  {
   "cell_type": "markdown",
   "metadata": {},
   "source": [
    "## 1.Lowercasing"
   ]
  },
  {
   "cell_type": "code",
   "execution_count": 2,
   "metadata": {
    "_cell_guid": "b1076dfc-b9ad-4769-8c92-a6c4dae69d19",
    "_uuid": "8f2839f25d086af736a60e9eeb907d3b93b6e0e5",
    "execution": {
     "iopub.execute_input": "2021-12-08T21:08:07.122338Z",
     "iopub.status.busy": "2021-12-08T21:08:07.12209Z",
     "iopub.status.idle": "2021-12-08T21:08:07.137918Z",
     "shell.execute_reply": "2021-12-08T21:08:07.137237Z",
     "shell.execute_reply.started": "2021-12-08T21:08:07.122313Z"
    }
   },
   "outputs": [],
   "source": [
    "# This Python 3 environment comes with many helpful analytics libraries installed\n",
    "# It is defined by the kaggle/python Docker image: https://github.com/kaggle/docker-python\n",
    "# For example, here's several helpful packages to load\n",
    "\n",
    "import numpy as np # linear algebra\n",
    "import pandas as pd # data processing, CSV file I/O (e.g. pd.read_csv)\n",
    "\n",
    "# Input data files are available in the read-only \"../input/\" directory\n",
    "# For example, running this (by clicking run or pressing Shift+Enter) will list all files under the input directory\n",
    "\n",
    "import os\n",
    "for dirname, _, filenames in os.walk('/kaggle/input'):\n",
    "    for filename in filenames:\n",
    "        print(os.path.join(dirname, filename))\n",
    "\n",
    "# You can write up to 20GB to the current directory (/kaggle/working/) that gets preserved as output when you create a version using \"Save & Run All\" \n",
    "# You can also write temporary files to /kaggle/temp/, but they won't be saved outside of the current session"
   ]
  },
  {
   "cell_type": "code",
   "execution_count": 3,
   "metadata": {
    "execution": {
     "iopub.execute_input": "2021-12-08T21:08:08.71031Z",
     "iopub.status.busy": "2021-12-08T21:08:08.709642Z",
     "iopub.status.idle": "2021-12-08T21:08:10.561228Z",
     "shell.execute_reply": "2021-12-08T21:08:10.560402Z",
     "shell.execute_reply.started": "2021-12-08T21:08:08.710274Z"
    }
   },
   "outputs": [],
   "source": [
    "df = pd.read_csv('IMDB Dataset.csv')"
   ]
  },
  {
   "cell_type": "code",
   "execution_count": 4,
   "metadata": {
    "execution": {
     "iopub.execute_input": "2021-12-08T10:21:20.441483Z",
     "iopub.status.busy": "2021-12-08T10:21:20.441182Z",
     "iopub.status.idle": "2021-12-08T10:21:20.447118Z",
     "shell.execute_reply": "2021-12-08T10:21:20.446333Z",
     "shell.execute_reply.started": "2021-12-08T10:21:20.441438Z"
    }
   },
   "outputs": [
    {
     "data": {
      "text/plain": [
       "(50000, 2)"
      ]
     },
     "execution_count": 4,
     "metadata": {},
     "output_type": "execute_result"
    }
   ],
   "source": [
    "df.shape"
   ]
  },
  {
   "cell_type": "code",
   "execution_count": 5,
   "metadata": {
    "execution": {
     "iopub.execute_input": "2021-12-08T10:16:47.977772Z",
     "iopub.status.busy": "2021-12-08T10:16:47.977163Z",
     "iopub.status.idle": "2021-12-08T10:16:47.999836Z",
     "shell.execute_reply": "2021-12-08T10:16:47.999242Z",
     "shell.execute_reply.started": "2021-12-08T10:16:47.977723Z"
    }
   },
   "outputs": [
    {
     "data": {
      "text/html": [
       "<div>\n",
       "<style scoped>\n",
       "    .dataframe tbody tr th:only-of-type {\n",
       "        vertical-align: middle;\n",
       "    }\n",
       "\n",
       "    .dataframe tbody tr th {\n",
       "        vertical-align: top;\n",
       "    }\n",
       "\n",
       "    .dataframe thead th {\n",
       "        text-align: right;\n",
       "    }\n",
       "</style>\n",
       "<table border=\"1\" class=\"dataframe\">\n",
       "  <thead>\n",
       "    <tr style=\"text-align: right;\">\n",
       "      <th></th>\n",
       "      <th>review</th>\n",
       "      <th>sentiment</th>\n",
       "    </tr>\n",
       "  </thead>\n",
       "  <tbody>\n",
       "    <tr>\n",
       "      <th>0</th>\n",
       "      <td>One of the other reviewers has mentioned that ...</td>\n",
       "      <td>positive</td>\n",
       "    </tr>\n",
       "    <tr>\n",
       "      <th>1</th>\n",
       "      <td>A wonderful little production. &lt;br /&gt;&lt;br /&gt;The...</td>\n",
       "      <td>positive</td>\n",
       "    </tr>\n",
       "    <tr>\n",
       "      <th>2</th>\n",
       "      <td>I thought this was a wonderful way to spend ti...</td>\n",
       "      <td>positive</td>\n",
       "    </tr>\n",
       "    <tr>\n",
       "      <th>3</th>\n",
       "      <td>Basically there's a family where a little boy ...</td>\n",
       "      <td>negative</td>\n",
       "    </tr>\n",
       "    <tr>\n",
       "      <th>4</th>\n",
       "      <td>Petter Mattei's \"Love in the Time of Money\" is...</td>\n",
       "      <td>positive</td>\n",
       "    </tr>\n",
       "  </tbody>\n",
       "</table>\n",
       "</div>"
      ],
      "text/plain": [
       "                                              review sentiment\n",
       "0  One of the other reviewers has mentioned that ...  positive\n",
       "1  A wonderful little production. <br /><br />The...  positive\n",
       "2  I thought this was a wonderful way to spend ti...  positive\n",
       "3  Basically there's a family where a little boy ...  negative\n",
       "4  Petter Mattei's \"Love in the Time of Money\" is...  positive"
      ]
     },
     "execution_count": 5,
     "metadata": {},
     "output_type": "execute_result"
    }
   ],
   "source": [
    "df.head()"
   ]
  },
  {
   "cell_type": "code",
   "execution_count": 6,
   "metadata": {
    "execution": {
     "iopub.execute_input": "2021-12-08T10:21:00.750114Z",
     "iopub.status.busy": "2021-12-08T10:21:00.749847Z",
     "iopub.status.idle": "2021-12-08T10:21:00.758994Z",
     "shell.execute_reply": "2021-12-08T10:21:00.758482Z",
     "shell.execute_reply.started": "2021-12-08T10:21:00.750086Z"
    }
   },
   "outputs": [
    {
     "data": {
      "text/plain": [
       "\"basically there's a family where a little boy (jake) thinks there's a zombie in his closet & his parents are fighting all the time.<br /><br />this movie is slower than a soap opera... and suddenly, jake decides to become rambo and kill the zombie.<br /><br />ok, first of all when you're going to make a film you must decide if its a thriller or a drama! as a drama the movie is watchable. parents are divorcing & arguing like in real life. and then we have jake with his closet which totally ruins all the film! i expected to see a boogeyman similar movie, and instead i watched a drama with some meaningless thriller spots.<br /><br />3 out of 10 just for the well playing parents & descent dialogs. as for the shots with jake: just ignore them.\""
      ]
     },
     "execution_count": 6,
     "metadata": {},
     "output_type": "execute_result"
    }
   ],
   "source": [
    "df['review'][3].lower()"
   ]
  },
  {
   "cell_type": "code",
   "execution_count": 7,
   "metadata": {
    "execution": {
     "iopub.execute_input": "2021-12-08T10:22:00.387349Z",
     "iopub.status.busy": "2021-12-08T10:22:00.387082Z",
     "iopub.status.idle": "2021-12-08T10:22:00.553846Z",
     "shell.execute_reply": "2021-12-08T10:22:00.553067Z",
     "shell.execute_reply.started": "2021-12-08T10:22:00.38732Z"
    }
   },
   "outputs": [],
   "source": [
    "df['review'] = df['review'].str.lower()"
   ]
  },
  {
   "cell_type": "code",
   "execution_count": 8,
   "metadata": {
    "execution": {
     "iopub.execute_input": "2021-12-08T10:22:02.664852Z",
     "iopub.status.busy": "2021-12-08T10:22:02.664555Z",
     "iopub.status.idle": "2021-12-08T10:22:02.676716Z",
     "shell.execute_reply": "2021-12-08T10:22:02.675918Z",
     "shell.execute_reply.started": "2021-12-08T10:22:02.664821Z"
    },
    "scrolled": true
   },
   "outputs": [
    {
     "data": {
      "text/html": [
       "<div>\n",
       "<style scoped>\n",
       "    .dataframe tbody tr th:only-of-type {\n",
       "        vertical-align: middle;\n",
       "    }\n",
       "\n",
       "    .dataframe tbody tr th {\n",
       "        vertical-align: top;\n",
       "    }\n",
       "\n",
       "    .dataframe thead th {\n",
       "        text-align: right;\n",
       "    }\n",
       "</style>\n",
       "<table border=\"1\" class=\"dataframe\">\n",
       "  <thead>\n",
       "    <tr style=\"text-align: right;\">\n",
       "      <th></th>\n",
       "      <th>review</th>\n",
       "      <th>sentiment</th>\n",
       "    </tr>\n",
       "  </thead>\n",
       "  <tbody>\n",
       "    <tr>\n",
       "      <th>0</th>\n",
       "      <td>one of the other reviewers has mentioned that ...</td>\n",
       "      <td>positive</td>\n",
       "    </tr>\n",
       "    <tr>\n",
       "      <th>1</th>\n",
       "      <td>a wonderful little production. &lt;br /&gt;&lt;br /&gt;the...</td>\n",
       "      <td>positive</td>\n",
       "    </tr>\n",
       "    <tr>\n",
       "      <th>2</th>\n",
       "      <td>i thought this was a wonderful way to spend ti...</td>\n",
       "      <td>positive</td>\n",
       "    </tr>\n",
       "    <tr>\n",
       "      <th>3</th>\n",
       "      <td>basically there's a family where a little boy ...</td>\n",
       "      <td>negative</td>\n",
       "    </tr>\n",
       "    <tr>\n",
       "      <th>4</th>\n",
       "      <td>petter mattei's \"love in the time of money\" is...</td>\n",
       "      <td>positive</td>\n",
       "    </tr>\n",
       "    <tr>\n",
       "      <th>...</th>\n",
       "      <td>...</td>\n",
       "      <td>...</td>\n",
       "    </tr>\n",
       "    <tr>\n",
       "      <th>49995</th>\n",
       "      <td>i thought this movie did a down right good job...</td>\n",
       "      <td>positive</td>\n",
       "    </tr>\n",
       "    <tr>\n",
       "      <th>49996</th>\n",
       "      <td>bad plot, bad dialogue, bad acting, idiotic di...</td>\n",
       "      <td>negative</td>\n",
       "    </tr>\n",
       "    <tr>\n",
       "      <th>49997</th>\n",
       "      <td>i am a catholic taught in parochial elementary...</td>\n",
       "      <td>negative</td>\n",
       "    </tr>\n",
       "    <tr>\n",
       "      <th>49998</th>\n",
       "      <td>i'm going to have to disagree with the previou...</td>\n",
       "      <td>negative</td>\n",
       "    </tr>\n",
       "    <tr>\n",
       "      <th>49999</th>\n",
       "      <td>no one expects the star trek movies to be high...</td>\n",
       "      <td>negative</td>\n",
       "    </tr>\n",
       "  </tbody>\n",
       "</table>\n",
       "<p>50000 rows × 2 columns</p>\n",
       "</div>"
      ],
      "text/plain": [
       "                                                  review sentiment\n",
       "0      one of the other reviewers has mentioned that ...  positive\n",
       "1      a wonderful little production. <br /><br />the...  positive\n",
       "2      i thought this was a wonderful way to spend ti...  positive\n",
       "3      basically there's a family where a little boy ...  negative\n",
       "4      petter mattei's \"love in the time of money\" is...  positive\n",
       "...                                                  ...       ...\n",
       "49995  i thought this movie did a down right good job...  positive\n",
       "49996  bad plot, bad dialogue, bad acting, idiotic di...  negative\n",
       "49997  i am a catholic taught in parochial elementary...  negative\n",
       "49998  i'm going to have to disagree with the previou...  negative\n",
       "49999  no one expects the star trek movies to be high...  negative\n",
       "\n",
       "[50000 rows x 2 columns]"
      ]
     },
     "execution_count": 8,
     "metadata": {},
     "output_type": "execute_result"
    }
   ],
   "source": [
    "df"
   ]
  },
  {
   "cell_type": "markdown",
   "metadata": {},
   "source": [
    "## 2.Removing HTML tags using regular expression:"
   ]
  },
  {
   "cell_type": "code",
   "execution_count": 9,
   "metadata": {
    "execution": {
     "iopub.execute_input": "2021-12-08T10:37:17.260075Z",
     "iopub.status.busy": "2021-12-08T10:37:17.259698Z",
     "iopub.status.idle": "2021-12-08T10:37:17.265673Z",
     "shell.execute_reply": "2021-12-08T10:37:17.264763Z",
     "shell.execute_reply.started": "2021-12-08T10:37:17.260041Z"
    }
   },
   "outputs": [],
   "source": [
    "import re\n",
    "def remove_html_tags(text):\n",
    "    pattern = re.compile('<.*?>')\n",
    "    return pattern.sub(r'', text)"
   ]
  },
  {
   "cell_type": "code",
   "execution_count": 10,
   "metadata": {
    "execution": {
     "iopub.execute_input": "2021-12-08T10:37:39.77982Z",
     "iopub.status.busy": "2021-12-08T10:37:39.779507Z",
     "iopub.status.idle": "2021-12-08T10:37:39.784085Z",
     "shell.execute_reply": "2021-12-08T10:37:39.783217Z",
     "shell.execute_reply.started": "2021-12-08T10:37:39.779785Z"
    }
   },
   "outputs": [],
   "source": [
    "text = \"<html><body><p> Movie 1</p><p> Actor - Aamir Khan</p><p> Click here to <a href='http://google.com'>download</a></p></body></html>\""
   ]
  },
  {
   "cell_type": "code",
   "execution_count": 11,
   "metadata": {
    "execution": {
     "iopub.execute_input": "2021-12-08T10:37:48.202652Z",
     "iopub.status.busy": "2021-12-08T10:37:48.202087Z",
     "iopub.status.idle": "2021-12-08T10:37:48.207164Z",
     "shell.execute_reply": "2021-12-08T10:37:48.20662Z",
     "shell.execute_reply.started": "2021-12-08T10:37:48.202617Z"
    }
   },
   "outputs": [
    {
     "data": {
      "text/plain": [
       "' Movie 1 Actor - Aamir Khan Click here to download'"
      ]
     },
     "execution_count": 11,
     "metadata": {},
     "output_type": "execute_result"
    }
   ],
   "source": [
    "remove_html_tags(text)"
   ]
  },
  {
   "cell_type": "code",
   "execution_count": 12,
   "metadata": {
    "execution": {
     "iopub.execute_input": "2021-12-08T10:38:52.024348Z",
     "iopub.status.busy": "2021-12-08T10:38:52.023767Z",
     "iopub.status.idle": "2021-12-08T10:38:52.295961Z",
     "shell.execute_reply": "2021-12-08T10:38:52.29476Z",
     "shell.execute_reply.started": "2021-12-08T10:38:52.024306Z"
    }
   },
   "outputs": [],
   "source": [
    "df['review'] = df['review'].apply(remove_html_tags)"
   ]
  },
  {
   "cell_type": "code",
   "execution_count": 13,
   "metadata": {
    "execution": {
     "iopub.execute_input": "2021-12-08T11:30:07.710194Z",
     "iopub.status.busy": "2021-12-08T11:30:07.709923Z",
     "iopub.status.idle": "2021-12-08T11:30:07.715664Z",
     "shell.execute_reply": "2021-12-08T11:30:07.714852Z",
     "shell.execute_reply.started": "2021-12-08T11:30:07.710166Z"
    }
   },
   "outputs": [
    {
     "data": {
      "text/plain": [
       "'probably my all-time favorite movie, a story of selflessness, sacrifice and dedication to a noble cause, but it\\'s not preachy or boring. it just never gets old, despite my having seen it some 15 or more times in the last 25 years. paul lukas\\' performance brings tears to my eyes, and bette davis, in one of her very few truly sympathetic roles, is a delight. the kids are, as grandma says, more like \"dressed-up midgets\" than children, but that only makes them more fun to watch. and the mother\\'s slow awakening to what\\'s happening in the world and under her own roof is believable and startling. if i had a dozen thumbs, they\\'d all be \"up\" for this movie.'"
      ]
     },
     "execution_count": 13,
     "metadata": {},
     "output_type": "execute_result"
    }
   ],
   "source": [
    "df['review'][5]"
   ]
  },
  {
   "cell_type": "markdown",
   "metadata": {},
   "source": [
    "## 3.Removing Urls"
   ]
  },
  {
   "cell_type": "code",
   "execution_count": 14,
   "metadata": {
    "execution": {
     "iopub.execute_input": "2021-12-08T10:49:34.054005Z",
     "iopub.status.busy": "2021-12-08T10:49:34.053704Z",
     "iopub.status.idle": "2021-12-08T10:49:34.058386Z",
     "shell.execute_reply": "2021-12-08T10:49:34.057762Z",
     "shell.execute_reply.started": "2021-12-08T10:49:34.053975Z"
    }
   },
   "outputs": [],
   "source": [
    "def remove_url(text):\n",
    "    pattern = re.compile(r'https?://\\S+|www\\.\\S+')\n",
    "    return pattern.sub(r'', text)"
   ]
  },
  {
   "cell_type": "code",
   "execution_count": 15,
   "metadata": {
    "execution": {
     "iopub.execute_input": "2021-12-08T10:52:29.758289Z",
     "iopub.status.busy": "2021-12-08T10:52:29.757982Z",
     "iopub.status.idle": "2021-12-08T10:52:29.761928Z",
     "shell.execute_reply": "2021-12-08T10:52:29.761454Z",
     "shell.execute_reply.started": "2021-12-08T10:52:29.758254Z"
    }
   },
   "outputs": [],
   "source": [
    "text1 = 'Check out my notebook https://www.kaggle.com/campusx/notebook8223fc1abb'\n",
    "text2 = 'Check out my notebook http://www.kaggle.com/campusx/notebook8223fc1abb'\n",
    "text3 = 'Google search here www.google.com'\n",
    "text4 = 'For notebook click https://www.kaggle.com/campusx/notebook8223fc1abb to search check www.google.com'"
   ]
  },
  {
   "cell_type": "code",
   "execution_count": 16,
   "metadata": {
    "execution": {
     "iopub.execute_input": "2021-12-08T10:56:31.400818Z",
     "iopub.status.busy": "2021-12-08T10:56:31.400527Z",
     "iopub.status.idle": "2021-12-08T10:56:31.406438Z",
     "shell.execute_reply": "2021-12-08T10:56:31.405521Z",
     "shell.execute_reply.started": "2021-12-08T10:56:31.400787Z"
    }
   },
   "outputs": [
    {
     "data": {
      "text/plain": [
       "'For notebook click  to search check '"
      ]
     },
     "execution_count": 16,
     "metadata": {},
     "output_type": "execute_result"
    }
   ],
   "source": [
    "remove_url(text4)"
   ]
  },
  {
   "cell_type": "markdown",
   "metadata": {},
   "source": [
    "## 4.Removing Punctuations :"
   ]
  },
  {
   "cell_type": "code",
   "execution_count": 17,
   "metadata": {
    "execution": {
     "iopub.execute_input": "2021-12-08T11:27:27.985243Z",
     "iopub.status.busy": "2021-12-08T11:27:27.984584Z",
     "iopub.status.idle": "2021-12-08T11:27:27.990753Z",
     "shell.execute_reply": "2021-12-08T11:27:27.989969Z",
     "shell.execute_reply.started": "2021-12-08T11:27:27.985189Z"
    }
   },
   "outputs": [
    {
     "data": {
      "text/plain": [
       "'!\"#$%&\\'()*+,-./:;<=>?@[\\\\]^_`{|}~'"
      ]
     },
     "execution_count": 17,
     "metadata": {},
     "output_type": "execute_result"
    }
   ],
   "source": [
    "import string,time\n",
    "string.punctuation"
   ]
  },
  {
   "cell_type": "code",
   "execution_count": 18,
   "metadata": {
    "execution": {
     "iopub.execute_input": "2021-12-08T11:12:07.074296Z",
     "iopub.status.busy": "2021-12-08T11:12:07.074027Z",
     "iopub.status.idle": "2021-12-08T11:12:07.077901Z",
     "shell.execute_reply": "2021-12-08T11:12:07.077307Z",
     "shell.execute_reply.started": "2021-12-08T11:12:07.074267Z"
    }
   },
   "outputs": [],
   "source": [
    "exclude = string.punctuation"
   ]
  },
  {
   "cell_type": "code",
   "execution_count": 19,
   "metadata": {
    "execution": {
     "iopub.execute_input": "2021-12-08T11:14:35.963155Z",
     "iopub.status.busy": "2021-12-08T11:14:35.962877Z",
     "iopub.status.idle": "2021-12-08T11:14:35.967036Z",
     "shell.execute_reply": "2021-12-08T11:14:35.966449Z",
     "shell.execute_reply.started": "2021-12-08T11:14:35.963125Z"
    }
   },
   "outputs": [],
   "source": [
    "def remove_punc(text):\n",
    "    for char in exclude:\n",
    "        text = text.replace(char,'')\n",
    "    return text\n",
    "        "
   ]
  },
  {
   "cell_type": "code",
   "execution_count": 20,
   "metadata": {
    "execution": {
     "iopub.execute_input": "2021-12-08T11:25:11.160928Z",
     "iopub.status.busy": "2021-12-08T11:25:11.160622Z",
     "iopub.status.idle": "2021-12-08T11:25:11.16429Z",
     "shell.execute_reply": "2021-12-08T11:25:11.163672Z",
     "shell.execute_reply.started": "2021-12-08T11:25:11.160893Z"
    }
   },
   "outputs": [],
   "source": [
    "text = 'string. With. Punctuation?'"
   ]
  },
  {
   "cell_type": "code",
   "execution_count": 21,
   "metadata": {
    "execution": {
     "iopub.execute_input": "2021-12-08T11:47:24.652052Z",
     "iopub.status.busy": "2021-12-08T11:47:24.651733Z",
     "iopub.status.idle": "2021-12-08T11:47:24.658283Z",
     "shell.execute_reply": "2021-12-08T11:47:24.65749Z",
     "shell.execute_reply.started": "2021-12-08T11:47:24.652024Z"
    },
    "scrolled": true
   },
   "outputs": [
    {
     "name": "stdout",
     "output_type": "stream",
     "text": [
      "string With Punctuation\n",
      "0.0\n"
     ]
    }
   ],
   "source": [
    "start = time.time()\n",
    "print(remove_punc(text))\n",
    "time1 = time.time() - start\n",
    "print(time1*50000)"
   ]
  },
  {
   "cell_type": "code",
   "execution_count": 23,
   "metadata": {},
   "outputs": [],
   "source": [
    "text = df['review'][4]"
   ]
  },
  {
   "cell_type": "code",
   "execution_count": 24,
   "metadata": {},
   "outputs": [
    {
     "name": "stdout",
     "output_type": "stream",
     "text": [
      "petter matteis love in the time of money is a visually stunning film to watch mr mattei offers us a vivid portrait about human relations this is a movie that seems to be telling us what money power and success do to people in the different situations we encounter this being a variation on the arthur schnitzlers play about the same theme the director transfers the action to the present time new york where all these different characters meet and connect each one is connected in one way or another to the next person but no one seems to know the previous point of contact stylishly the film has a sophisticated luxurious look we are taken to see how these people live and the world they live in their own habitatthe only thing one gets out of all these souls in the picture is the different stages of loneliness each one inhabits a big city is not exactly the best place in which human relations find sincere fulfillment as one discerns is the case with most of the people we encounterthe acting is good under mr matteis direction steve buscemi rosario dawson carol kane michael imperioli adrian grenier and the rest of the talented cast make these characters come alivewe wish mr mattei good luck and await anxiously for his next work\n",
      "0.0\n"
     ]
    }
   ],
   "source": [
    "start = time.time()\n",
    "print(remove_punc(text))\n",
    "time1 = time.time() - start\n",
    "print(time1*50000)"
   ]
  },
  {
   "cell_type": "code",
   "execution_count": 25,
   "metadata": {
    "execution": {
     "iopub.execute_input": "2021-12-08T11:25:58.738621Z",
     "iopub.status.busy": "2021-12-08T11:25:58.738276Z",
     "iopub.status.idle": "2021-12-08T11:25:58.743341Z",
     "shell.execute_reply": "2021-12-08T11:25:58.742445Z",
     "shell.execute_reply.started": "2021-12-08T11:25:58.738573Z"
    }
   },
   "outputs": [],
   "source": [
    "def remove_punc1(text):\n",
    "    return text.translate(str.maketrans('', '', exclude))"
   ]
  },
  {
   "cell_type": "code",
   "execution_count": 26,
   "metadata": {
    "execution": {
     "iopub.execute_input": "2021-12-08T11:48:36.142326Z",
     "iopub.status.busy": "2021-12-08T11:48:36.141657Z",
     "iopub.status.idle": "2021-12-08T11:48:36.147256Z",
     "shell.execute_reply": "2021-12-08T11:48:36.14647Z",
     "shell.execute_reply.started": "2021-12-08T11:48:36.142291Z"
    }
   },
   "outputs": [
    {
     "name": "stdout",
     "output_type": "stream",
     "text": [
      "0.0\n"
     ]
    }
   ],
   "source": [
    "start = time.time()\n",
    "remove_punc1(text)\n",
    "time2 = time.time() - start\n",
    "print(time2*50000)"
   ]
  },
  {
   "cell_type": "code",
   "execution_count": 27,
   "metadata": {
    "execution": {
     "iopub.execute_input": "2021-12-08T11:30:35.293558Z",
     "iopub.status.busy": "2021-12-08T11:30:35.292632Z",
     "iopub.status.idle": "2021-12-08T11:30:35.299402Z",
     "shell.execute_reply": "2021-12-08T11:30:35.298461Z",
     "shell.execute_reply.started": "2021-12-08T11:30:35.293506Z"
    }
   },
   "outputs": [
    {
     "data": {
      "text/plain": [
       "'probably my all-time favorite movie, a story of selflessness, sacrifice and dedication to a noble cause, but it\\'s not preachy or boring. it just never gets old, despite my having seen it some 15 or more times in the last 25 years. paul lukas\\' performance brings tears to my eyes, and bette davis, in one of her very few truly sympathetic roles, is a delight. the kids are, as grandma says, more like \"dressed-up midgets\" than children, but that only makes them more fun to watch. and the mother\\'s slow awakening to what\\'s happening in the world and under her own roof is believable and startling. if i had a dozen thumbs, they\\'d all be \"up\" for this movie.'"
      ]
     },
     "execution_count": 27,
     "metadata": {},
     "output_type": "execute_result"
    }
   ],
   "source": [
    "df['review'][5]"
   ]
  },
  {
   "cell_type": "code",
   "execution_count": 28,
   "metadata": {
    "execution": {
     "iopub.execute_input": "2021-12-08T11:30:45.940503Z",
     "iopub.status.busy": "2021-12-08T11:30:45.93977Z",
     "iopub.status.idle": "2021-12-08T11:30:45.946977Z",
     "shell.execute_reply": "2021-12-08T11:30:45.946183Z",
     "shell.execute_reply.started": "2021-12-08T11:30:45.94044Z"
    },
    "scrolled": true
   },
   "outputs": [
    {
     "data": {
      "text/plain": [
       "'probably my alltime favorite movie a story of selflessness sacrifice and dedication to a noble cause but its not preachy or boring it just never gets old despite my having seen it some 15 or more times in the last 25 years paul lukas performance brings tears to my eyes and bette davis in one of her very few truly sympathetic roles is a delight the kids are as grandma says more like dressedup midgets than children but that only makes them more fun to watch and the mothers slow awakening to whats happening in the world and under her own roof is believable and startling if i had a dozen thumbs theyd all be up for this movie'"
      ]
     },
     "execution_count": 28,
     "metadata": {},
     "output_type": "execute_result"
    }
   ],
   "source": [
    "remove_punc1(df['review'][5])"
   ]
  },
  {
   "cell_type": "markdown",
   "metadata": {},
   "source": [
    "## 5. Approach towards Chatwords:"
   ]
  },
  {
   "cell_type": "code",
   "execution_count": 31,
   "metadata": {
    "execution": {
     "iopub.execute_input": "2021-12-08T20:20:03.604596Z",
     "iopub.status.busy": "2021-12-08T20:20:03.604312Z",
     "iopub.status.idle": "2021-12-08T20:20:03.612302Z",
     "shell.execute_reply": "2021-12-08T20:20:03.611428Z",
     "shell.execute_reply.started": "2021-12-08T20:20:03.604568Z"
    }
   },
   "outputs": [],
   "source": [
    "chat_words={'AFAIK': 'As Far As I Know',\n",
    "'AFK': 'Away From Keyboard',\n",
    "'ASAP': 'As Soon As Possible',\n",
    "'ATK': 'At The Keyboard',\n",
    "'ATM': 'At The Moment',\n",
    "'A3': 'Anytime, Anywhere, Anyplace',\n",
    "'BAK': 'Back At Keyboard',\n",
    "'BBL': 'Be Back Later',\n",
    "'BBS': 'Be Back Soon',\n",
    "'BFN': 'Bye For Now',\n",
    "'B4N': 'Bye For Now',\n",
    "'BRB': 'Be Right Back',\n",
    "'BRT': 'Be Right There',\n",
    "'BTW': 'By The Way',\n",
    "'B4': 'Before',\n",
    "'B4N': 'Bye For Now',\n",
    "'CU': 'See You',\n",
    "'CUL8R': 'See You Later',\n",
    "'CYA': 'See You',\n",
    "'FAQ': 'Frequently Asked Questions',\n",
    "'FC': 'Fingers Crossed',\n",
    "'FWIW': 'For What Its Worth',\n",
    "'FYI': 'For Your Information',\n",
    "'GAL': 'Get A Life',\n",
    "'GG': 'Good Game',\n",
    "'GN': 'Good Night',\n",
    "'GMTA': 'Great Minds Think Alike',\n",
    "'GR8': 'Great!',\n",
    "'G9': 'Genius',\n",
    "'IC': 'I See',\n",
    "'ICQ': 'I Seek you (also a chat program)',\n",
    "'ILU': 'ILU: I Love You',\n",
    "'IMHO': 'In My Honest/Humble Opinion',\n",
    "'IMO': 'In My Opinion',\n",
    "'IOW': 'In Other Words',\n",
    "'IRL': 'In Real Life',\n",
    "'KISS': 'Keep It Simple, Stupid',\n",
    "'LDR': 'Long Distance Relationship',\n",
    "'LMAO': 'Laugh My A.. Off',\n",
    "'LOL': 'Laughing Out Loud',\n",
    "'LTNS': 'Long Time No See',\n",
    "'L8R': 'Later',\n",
    "'MTE': 'My Thoughts Exactly',\n",
    "'M8': 'Mate',\n",
    "'NRN': 'No Reply Necessary',\n",
    "'OIC': 'Oh I See',\n",
    "'PITA': 'Pain In The A..',\n",
    "'PRT': 'Party',\n",
    "'PRW': 'Parents Are Watching',\n",
    "'QPSA?': 'Que Pasa?',\n",
    "'ROFL': 'Rolling On The Floor Laughing',\n",
    "'ROFLOL': 'Rolling On The Floor Laughing Out Loud',\n",
    "'ROTFLMAO': 'Rolling On The Floor Laughing My A.. Off',\n",
    "'SK8': 'Skate',\n",
    "'STATS': 'Your sex and age',\n",
    "'ASL': 'Age, Sex, Location',\n",
    "'THX': 'Thank You',\n",
    "'TTFN': 'Ta-Ta For Now!',\n",
    "'TTYL': 'Talk To You Later',\n",
    "'U': 'You',\n",
    "'U2': 'You Too',\n",
    "'U4E': 'Yours For Ever',\n",
    "'WB': 'Welcome Back',\n",
    "'WTF': 'What The F...',\n",
    "'WTG': 'Way To Go!',\n",
    "'WUF': 'Where Are You From?',\n",
    "'W8': 'Wait...',\n",
    "'7K': 'Sick',\n",
    "':-D': 'Laughter',\n",
    "'>-': 'Alien',\n",
    "'O:)': 'Angel',\n",
    "'O.o': 'Confused',\n",
    "'B-)': 'Cool',\n",
    "':_(': 'Crying',\n",
    "'=)': 'Happy',\n",
    "':-)': 'Happy',\n",
    "':)': 'Happy',\n",
    "'#': 'Hashtag',\n",
    "'<3': 'Heart',\n",
    "'{}': 'Hug',\n",
    "'=(': 'Sad',\n",
    "':-(': 'Sad',\n",
    "':(': 'Sad',\n",
    "':S': 'Sarcastic',\n",
    "':-@': 'Screaming',\n",
    "'=O': 'Shocked',\n",
    "':-o': 'Shocked',\n",
    "':-)': 'Smile',\n",
    "':)': 'Smile',\n",
    "':-Q': 'Smoking',\n",
    "':>=': 'Smug',\n",
    "':P': 'Sticking Tongue Out',\n",
    "':o': 'Surprised'}"
   ]
  },
  {
   "cell_type": "code",
   "execution_count": 32,
   "metadata": {
    "execution": {
     "iopub.execute_input": "2021-12-08T20:22:14.393841Z",
     "iopub.status.busy": "2021-12-08T20:22:14.393112Z",
     "iopub.status.idle": "2021-12-08T20:22:14.398492Z",
     "shell.execute_reply": "2021-12-08T20:22:14.397611Z",
     "shell.execute_reply.started": "2021-12-08T20:22:14.393808Z"
    }
   },
   "outputs": [],
   "source": [
    "def chat_conversion(text):\n",
    "    new_text = []\n",
    "    for w in text.split():\n",
    "        if w.upper() in chat_words:\n",
    "            new_text.append(chat_words[w.upper()])\n",
    "        else:\n",
    "            new_text.append(w)\n",
    "    return \" \".join(new_text)"
   ]
  },
  {
   "cell_type": "code",
   "execution_count": 33,
   "metadata": {
    "execution": {
     "iopub.execute_input": "2021-12-08T20:27:43.943973Z",
     "iopub.status.busy": "2021-12-08T20:27:43.943069Z",
     "iopub.status.idle": "2021-12-08T20:27:43.949927Z",
     "shell.execute_reply": "2021-12-08T20:27:43.948991Z",
     "shell.execute_reply.started": "2021-12-08T20:27:43.94393Z"
    }
   },
   "outputs": [
    {
     "data": {
      "text/plain": [
       "'In My Honest/Humble Opinion he is the best'"
      ]
     },
     "execution_count": 33,
     "metadata": {},
     "output_type": "execute_result"
    }
   ],
   "source": [
    "chat_conversion('IMHO he is the best')"
   ]
  },
  {
   "cell_type": "code",
   "execution_count": 34,
   "metadata": {
    "execution": {
     "iopub.execute_input": "2021-12-08T20:27:50.00189Z",
     "iopub.status.busy": "2021-12-08T20:27:50.001509Z",
     "iopub.status.idle": "2021-12-08T20:27:50.006963Z",
     "shell.execute_reply": "2021-12-08T20:27:50.006143Z",
     "shell.execute_reply.started": "2021-12-08T20:27:50.001864Z"
    }
   },
   "outputs": [
    {
     "data": {
      "text/plain": [
       "'For Your Information delhi is the capital of india'"
      ]
     },
     "execution_count": 34,
     "metadata": {},
     "output_type": "execute_result"
    }
   ],
   "source": [
    "chat_conversion('FYI delhi is the capital of india')"
   ]
  },
  {
   "cell_type": "markdown",
   "metadata": {},
   "source": [
    "## 6.Spelling correction:"
   ]
  },
  {
   "cell_type": "code",
   "execution_count": 36,
   "metadata": {},
   "outputs": [
    {
     "name": "stdout",
     "output_type": "stream",
     "text": [
      "Collecting textblob\n",
      "  Using cached textblob-0.17.1-py2.py3-none-any.whl (636 kB)\n",
      "Requirement already satisfied: nltk>=3.1 in c:\\users\\asus\\anaconda3\\lib\\site-packages (from textblob) (3.7)\n",
      "Requirement already satisfied: tqdm in c:\\users\\asus\\anaconda3\\lib\\site-packages (from nltk>=3.1->textblob) (4.64.1)\n",
      "Requirement already satisfied: click in c:\\users\\asus\\anaconda3\\lib\\site-packages (from nltk>=3.1->textblob) (8.0.4)\n",
      "Requirement already satisfied: regex>=2021.8.3 in c:\\users\\asus\\anaconda3\\lib\\site-packages (from nltk>=3.1->textblob) (2022.7.9)\n",
      "Requirement already satisfied: joblib in c:\\users\\asus\\anaconda3\\lib\\site-packages (from nltk>=3.1->textblob) (1.1.1)\n",
      "Requirement already satisfied: colorama in c:\\users\\asus\\anaconda3\\lib\\site-packages (from click->nltk>=3.1->textblob) (0.4.6)\n",
      "Installing collected packages: textblob\n",
      "Successfully installed textblob-0.17.1\n",
      "Note: you may need to restart the kernel to use updated packages.\n"
     ]
    }
   ],
   "source": [
    "pip install textblob"
   ]
  },
  {
   "cell_type": "code",
   "execution_count": 37,
   "metadata": {
    "execution": {
     "iopub.execute_input": "2021-12-08T20:43:56.991858Z",
     "iopub.status.busy": "2021-12-08T20:43:56.99156Z",
     "iopub.status.idle": "2021-12-08T20:43:58.636292Z",
     "shell.execute_reply": "2021-12-08T20:43:58.635444Z",
     "shell.execute_reply.started": "2021-12-08T20:43:56.991826Z"
    }
   },
   "outputs": [],
   "source": [
    "from textblob import TextBlob"
   ]
  },
  {
   "cell_type": "code",
   "execution_count": 38,
   "metadata": {
    "execution": {
     "iopub.execute_input": "2021-12-08T20:45:03.889288Z",
     "iopub.status.busy": "2021-12-08T20:45:03.888211Z",
     "iopub.status.idle": "2021-12-08T20:45:03.901265Z",
     "shell.execute_reply": "2021-12-08T20:45:03.900308Z",
     "shell.execute_reply.started": "2021-12-08T20:45:03.889239Z"
    },
    "scrolled": true
   },
   "outputs": [
    {
     "data": {
      "text/plain": [
       "'certain conditions during several generations are modified in the same manner.'"
      ]
     },
     "execution_count": 38,
     "metadata": {},
     "output_type": "execute_result"
    }
   ],
   "source": [
    "incorrect_text = 'ceertain conditionas duriing seveal ggenerations aree moodified in the saame maner.'\n",
    "\n",
    "textBlb = TextBlob(incorrect_text)\n",
    "\n",
    "textBlb.correct().string"
   ]
  }
 ],
 "metadata": {
  "kernelspec": {
   "display_name": "Python 3 (ipykernel)",
   "language": "python",
   "name": "python3"
  },
  "language_info": {
   "codemirror_mode": {
    "name": "ipython",
    "version": 3
   },
   "file_extension": ".py",
   "mimetype": "text/x-python",
   "name": "python",
   "nbconvert_exporter": "python",
   "pygments_lexer": "ipython3",
   "version": "3.10.9"
  }
 },
 "nbformat": 4,
 "nbformat_minor": 4
}
